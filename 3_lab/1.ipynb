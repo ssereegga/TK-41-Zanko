{
 "cells": [
  {
   "cell_type": "markdown",
   "metadata": {},
   "source": [
    "#### Знайомство з ООП\n",
    "- потрібно 2 пайтон файли, Пайтон наутбук де будемо працювати з кодом та простий файл Пайтон де буде наш Клас\n",
    "- через те що Юпітер кешує імпорти, після зміни в нашому модулі ми повинні кожного разу перезавантажувати наш можуть, тобто виконувати комірку знизу\n"
   ]
  },
  {
   "cell_type": "code",
   "execution_count": 56,
   "metadata": {},
   "outputs": [
    {
     "data": {
      "text/plain": [
       "<module 'my_class' from 'c:\\\\Users\\\\User\\\\Documents\\\\TK-41-Zanko\\\\3_lab\\\\my_class.py'>"
      ]
     },
     "execution_count": 56,
     "metadata": {},
     "output_type": "execute_result"
    }
   ],
   "source": [
    "import importlib\n",
    "import my_class\n",
    "\n",
    "importlib.reload(my_class)"
   ]
  },
  {
   "cell_type": "code",
   "execution_count": 57,
   "metadata": {},
   "outputs": [
    {
     "name": "stdout",
     "output_type": "stream",
     "text": [
      "<class 'my_class.MySuperClass'>\n",
      "Help on class MySuperClass in module my_class:\n",
      "\n",
      "class MySuperClass(builtins.object)\n",
      " |  MySuperClass(surname, name, mark)\n",
      " |\n",
      " |  Methods defined here:\n",
      " |\n",
      " |  __init__(self, surname, name, mark)\n",
      " |      Initialize self.  See help(type(self)) for accurate signature.\n",
      " |\n",
      " |  ----------------------------------------------------------------------\n",
      " |  Data descriptors defined here:\n",
      " |\n",
      " |  __dict__\n",
      " |      dictionary for instance variables\n",
      " |\n",
      " |  __weakref__\n",
      " |      list of weak references to the object\n",
      "\n"
     ]
    }
   ],
   "source": [
    "from my_class import MySuperClass, function_in_module\n",
    "\n",
    "print(MySuperClass)\n",
    "help(MySuperClass)"
   ]
  },
  {
   "cell_type": "code",
   "execution_count": 58,
   "metadata": {},
   "outputs": [
    {
     "name": "stdout",
     "output_type": "stream",
     "text": [
      "['Студент VB B отримав оцінку 4', 'Студент FB B отримав оцінку 5', 'Студент DS S отримав оцінку 3', 'Студент TY D отримав оцінку 4']\n"
     ]
    }
   ],
   "source": [
    "name = [\"B\", \"B\", \"S\", \"D\"]\n",
    "surname = [\"VB\", \"FB\", \"DS\", \"TY\"]\n",
    "mark = [4, 5, 3, 4]\n",
    "\n",
    "print([f\"Студент {surname[i]} {name[i]} отримав оцінку {mark[i]}\" for i in range(len(name))])"
   ]
  },
  {
   "cell_type": "code",
   "execution_count": 59,
   "metadata": {},
   "outputs": [
    {
     "name": "stdout",
     "output_type": "stream",
     "text": [
      "Студент Новосад Максим отримав оцінку 4\n",
      "Студент Сергій Занько отримав оцінку 5\n",
      "Студент Юрій Вороновський отримав оцінку 3\n",
      "Студент Олександр Гайфійт отримав оцінку 4\n"
     ]
    }
   ],
   "source": [
    "d = {\n",
    "    \"Прізвище\": [\"Новосад\", \"Сергій\", \"Юрій\", \"Олександр\"],\n",
    "    \"Імя\": [\"Максим\", \"Занько\", \"Вороновський\", \"Гайфійт\"],\n",
    "    \"Оцінка\": [4, 5, 3, 4]\n",
    "}\n",
    "\n",
    "for i in range(len(d[\"Прізвище\"])):\n",
    "    print(f\"Студент {d[\"Прізвище\"][i]} {d[\"Імя\"][i]} отримав оцінку {d[\"Оцінка\"][i]}\")"
   ]
  },
  {
   "cell_type": "code",
   "execution_count": 60,
   "metadata": {},
   "outputs": [
    {
     "name": "stdout",
     "output_type": "stream",
     "text": [
      "Студент Занько Сергій отримав оцінку 4\n",
      "Студент Новосад Максим отримав оцінку 5\n",
      "Студент Вороновський Юрій отримав оцінку 3\n",
      "Студент Кізима Остап отримав оцінку 4\n"
     ]
    }
   ],
   "source": [
    "from my_class import MySuperClass\n",
    "c = [MySuperClass(\"Занько\", \"Сергій\", 4),\n",
    "     MySuperClass(\"Новосад\", \"Максим\", 5),\n",
    "     MySuperClass(\"Вороновський\", \"Юрій\", 3),\n",
    "     MySuperClass(\"Кізима\", \"Остап\", 4)\n",
    "     ]\n",
    "\n",
    "for student in c:\n",
    "    print(f\"Студент {student.surname} {student.name} отримав оцінку {student.mark}\")"
   ]
  },
  {
   "cell_type": "markdown",
   "metadata": {},
   "source": [
    "#### Термінологія\n",
    "- **__init__** - аналог конструктора, це є перший метод який викликається при створення обєкта\n",
    "- __repr__ - стрічкове представлення нашого обєкту\n",
    "- __docstring__ - опис класу, що він робити та як ним користуватись\n",
    "- всі методи як мають подвійне підкреслення називаються Магічними\n",
    "- будь-що що передається на вхід функції або нашого коструктора називається __аргументом__, наприклад surname це аргументом\n",
    "коли інфціалізується обєкт то йому присвоюються __атрибути__"
   ]
  },
  {
   "cell_type": "code",
   "execution_count": 63,
   "metadata": {},
   "outputs": [
    {
     "name": "stdout",
     "output_type": "stream",
     "text": [
      "<my_class.MySuperClass object at 0x05955FD8>\n",
      "Help on MySuperClass in module my_class object:\n",
      "\n",
      "class MySuperClass(builtins.object)\n",
      " |  MySuperClass(surname, name, mark)\n",
      " |\n",
      " |  Methods defined here:\n",
      " |\n",
      " |  __init__(self, surname, name, mark)\n",
      " |      Initialize self.  See help(type(self)) for accurate signature.\n",
      " |\n",
      " |  ----------------------------------------------------------------------\n",
      " |  Data descriptors defined here:\n",
      " |\n",
      " |  __dict__\n",
      " |      dictionary for instance variables\n",
      " |\n",
      " |  __weakref__\n",
      " |      list of weak references to the object\n",
      "\n",
      "Довжина імені:  6\n",
      "Беремо атрибут імені: Сергій\n",
      "Беремо атрибут прізвища: Занько\n"
     ]
    }
   ],
   "source": [
    "from my_class import MySuperClass\n",
    "\n",
    "# Створюємо об'єкт класу\n",
    "obj = MySuperClass(\"Занько\", \"Сергій\", 30)\n",
    "\n",
    "# Виводимо об'єкт\n",
    "print(obj)\n",
    "\n",
    "# Допомога з об'єктом\n",
    "help(obj)\n",
    "\n",
    "# Довжина імені\n",
    "print(\"Довжина імені: \", len(obj.name))\n",
    "\n",
    "# Беремо атрибут імені\n",
    "print(\"Беремо атрибут імені:\", obj.name)\n",
    "\n",
    "# Виводимо атрибут прізвища\n",
    "print(\"Беремо атрибут прізвища:\", obj.surname)\n",
    "\n"
   ]
  },
  {
   "cell_type": "code",
   "execution_count": 62,
   "metadata": {},
   "outputs": [
    {
     "name": "stdout",
     "output_type": "stream",
     "text": [
      "Car(марка='Toyota', модель='Camry', рік=2018)\n",
      "Help on Car in module my_class object:\n",
      "\n",
      "class Car(builtins.object)\n",
      " |  Car(make, model, year)\n",
      " |\n",
      " |  Цей клас представляє автомобіль.\n",
      " |\n",
      " |  Methods defined here:\n",
      " |\n",
      " |  __init__(self, make, model, year)\n",
      " |      Initialize self.  See help(type(self)) for accurate signature.\n",
      " |\n",
      " |  __str__(self)\n",
      " |      Відображає об'єкт у зручному форматі.\n",
      " |\n",
      " |  age(self)\n",
      " |      Повертає вік автомобіля.\n",
      " |\n",
      " |  ----------------------------------------------------------------------\n",
      " |  Data descriptors defined here:\n",
      " |\n",
      " |  __dict__\n",
      " |      dictionary for instance variables\n",
      " |\n",
      " |  __weakref__\n",
      " |      list of weak references to the object\n",
      "\n",
      "Цей клас представляє автомобіль.\n",
      "Toyota\n",
      "Camry\n"
     ]
    }
   ],
   "source": [
    "from my_class import Car\n",
    "\n",
    "# Створюємо об'єкт класу Car\n",
    "my_car = Car(\"Toyota\", \"Camry\", 2018)\n",
    "\n",
    "# Виводимо об'єкт\n",
    "print(my_car)\n",
    "\n",
    "# Допомога з об'єктом\n",
    "help(my_car)\n",
    "\n",
    "# Виводимо документацію класу\n",
    "print(Car.__doc__)\n",
    "\n",
    "# Виводимо вік автомобіля\n",
    "print(my_car.make)\n",
    "print(my_car.model)\n",
    "\n"
   ]
  }
 ],
 "metadata": {
  "kernelspec": {
   "display_name": "Python 3",
   "language": "python",
   "name": "python3"
  },
  "language_info": {
   "codemirror_mode": {
    "name": "ipython",
    "version": 3
   },
   "file_extension": ".py",
   "mimetype": "text/x-python",
   "name": "python",
   "nbconvert_exporter": "python",
   "pygments_lexer": "ipython3",
   "version": "3.12.5"
  }
 },
 "nbformat": 4,
 "nbformat_minor": 2
}

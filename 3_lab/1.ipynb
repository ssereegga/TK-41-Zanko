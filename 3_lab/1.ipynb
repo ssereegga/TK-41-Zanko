{
 "cells": [
  {
   "cell_type": "markdown",
   "metadata": {},
   "source": [
    "#### Знайомство з ООП\n",
    "- потрібно 2 пайтон файли, Пайтон наутбук де будемо працювати з кодом та простий файл Пайтон де буде наш Клас\n",
    "- через те що Юпітер кешує імпорти, після зміни в нашому модулі ми повинні кожного разу перезавантажувати наш можуть, тобто виконувати комірку знизу\n"
   ]
  },
  {
   "cell_type": "code",
   "execution_count": 48,
   "metadata": {},
   "outputs": [
    {
     "data": {
      "text/plain": [
       "<module 'chat_examples' from 'c:\\\\Users\\\\User\\\\Documents\\\\TK-41-Zanko\\\\3_lab\\\\chat_examples.py'>"
      ]
     },
     "execution_count": 48,
     "metadata": {},
     "output_type": "execute_result"
    }
   ],
   "source": [
    "import importlib\n",
    "import my_class\n",
    "import chat_examples\n",
    "\n",
    "importlib.reload(my_class)\n",
    "importlib.reload(chat_examples)"
   ]
  },
  {
   "cell_type": "code",
   "execution_count": 49,
   "metadata": {},
   "outputs": [
    {
     "name": "stdout",
     "output_type": "stream",
     "text": [
      "<class 'my_class.MySuperClass'>\n",
      "Help on class MySuperClass in module my_class:\n",
      "\n",
      "class MySuperClass(builtins.object)\n",
      " |  MySuperClass(surname: str, name, mark: int, group=None)\n",
      " |\n",
      " |  Тестовий клас, зараз реалізуємо опис студента\n",
      " |\n",
      " |  ---\n",
      " |\n",
      " |  surname : str\n",
      " |      Прізвище студента\n",
      " |\n",
      " |  Methods defined here:\n",
      " |\n",
      " |  __init__(self, surname: str, name, mark: int, group=None)\n",
      " |      Ініціалізуємо обєкт\n",
      " |      - в середині конструктора створюються атрибути\n",
      " |\n",
      " |  __len__(self)\n",
      " |\n",
      " |  __repr__(self)\n",
      " |      Return repr(self).\n",
      " |\n",
      " |  calculate_scholarship_after_session(self, raiting: int)\n",
      " |\n",
      " |  fucntion_in_class(self)\n",
      " |      Це вже метод згідно термінології, і він публічний\n",
      " |\n",
      " |  panishment(self)\n",
      " |\n",
      " |  ----------------------------------------------------------------------\n",
      " |  Readonly properties defined here:\n",
      " |\n",
      " |  name\n",
      " |      Ця властивість є закритою, її можна читати але не можна змінювати\n",
      " |\n",
      " |  say_hello\n",
      " |\n",
      " |  surname\n",
      " |\n",
      " |  ----------------------------------------------------------------------\n",
      " |  Data descriptors defined here:\n",
      " |\n",
      " |  __dict__\n",
      " |      dictionary for instance variables\n",
      " |\n",
      " |  __weakref__\n",
      " |      list of weak references to the object\n",
      "\n"
     ]
    }
   ],
   "source": [
    "from my_class import MySuperClass, function_in_module\n",
    "\n",
    "print(MySuperClass)\n",
    "help(MySuperClass)"
   ]
  },
  {
   "cell_type": "code",
   "execution_count": 50,
   "metadata": {},
   "outputs": [
    {
     "name": "stdout",
     "output_type": "stream",
     "text": [
      "['Студент VB B отримав оцінку 4', 'Студент FB B отримав оцінку 5', 'Студент DS S отримав оцінку 3', 'Студент TY D отримав оцінку 4']\n"
     ]
    }
   ],
   "source": [
    "name = [\"B\", \"B\", \"S\", \"D\"]\n",
    "surname = [\"VB\", \"FB\", \"DS\", \"TY\"]\n",
    "mark = [4, 5, 3, 4]\n",
    "\n",
    "print([f\"Студент {surname[i]} {name[i]} отримав оцінку {mark[i]}\" for i in range(len(name))])"
   ]
  },
  {
   "cell_type": "code",
   "execution_count": 51,
   "metadata": {},
   "outputs": [
    {
     "name": "stdout",
     "output_type": "stream",
     "text": [
      "Студент Новосад Максим отримав оцінку 4\n",
      "Студент Сергій Занько отримав оцінку 5\n",
      "Студент Юрій Вороновський отримав оцінку 3\n",
      "Студент Олександр Гайфійт отримав оцінку 4\n"
     ]
    }
   ],
   "source": [
    "d = {\n",
    "    \"Прізвище\": [\"Новосад\", \"Сергій\", \"Юрій\", \"Олександр\"],\n",
    "    \"Імя\": [\"Максим\", \"Занько\", \"Вороновський\", \"Гайфійт\"],\n",
    "    \"Оцінка\": [4, 5, 3, 4]\n",
    "}\n",
    "\n",
    "for i in range(len(d[\"Прізвище\"])):\n",
    "    print(f\"Студент {d[\"Прізвище\"][i]} {d[\"Імя\"][i]} отримав оцінку {d[\"Оцінка\"][i]}\")"
   ]
  },
  {
   "cell_type": "code",
   "execution_count": 52,
   "metadata": {},
   "outputs": [
    {
     "name": "stdout",
     "output_type": "stream",
     "text": [
      "Викликаємо __init__\n",
      "Викликаємо __init__\n",
      "Викликаємо __init__\n",
      "Викликаємо __init__\n",
      "Студент Занько Сергій отримав оцінку 4\n",
      "Студент Новосад Максим отримав оцінку 5\n",
      "Студент Вороновський Юрій отримав оцінку 3\n",
      "Студент Кізима Остап отримав оцінку 4\n"
     ]
    }
   ],
   "source": [
    "from my_class import MySuperClass\n",
    "c = [MySuperClass(\"Занько\", \"Сергій\", 4),\n",
    "     MySuperClass(\"Новосад\", \"Максим\", 5),\n",
    "     MySuperClass(\"Вороновський\", \"Юрій\", 3),\n",
    "     MySuperClass(\"Кізима\", \"Остап\", 4)\n",
    "     ]\n",
    "\n",
    "for student in c:\n",
    "    print(f\"Студент {student.surname} {student.name} отримав оцінку {student.mark}\")"
   ]
  },
  {
   "cell_type": "markdown",
   "metadata": {},
   "source": [
    "#### Термінологія\n",
    "- **__init__** - аналог конструктора, це є перший метод який викликається при створення обєкта\n",
    "- __repr__ - стрічкове представлення нашого обєкту\n",
    "- __docstring__ - опис класу, що він робити та як ним користуватись\n",
    "- всі методи як мають подвійне підкреслення називаються Магічними\n",
    "- будь-що що передається на вхід функції або нашого коструктора називається __аргументом__, наприклад surname це аргументом\n",
    "коли інфціалізується обєкт то йому присвоюються __атрибути__"
   ]
  },
  {
   "cell_type": "code",
   "execution_count": 53,
   "metadata": {},
   "outputs": [
    {
     "name": "stdout",
     "output_type": "stream",
     "text": [
      "Викликаємо __init__\n",
      "Представлення обєкту Студент, його задають: MySuperClass(surname, name, mark)\n",
      "Help on MySuperClass in module my_class object:\n",
      "\n",
      "class MySuperClass(builtins.object)\n",
      " |  MySuperClass(surname: str, name, mark: int, group=None)\n",
      " |\n",
      " |  Тестовий клас, зараз реалізуємо опис студента\n",
      " |\n",
      " |  ---\n",
      " |\n",
      " |  surname : str\n",
      " |      Прізвище студента\n",
      " |\n",
      " |  Methods defined here:\n",
      " |\n",
      " |  __init__(self, surname: str, name, mark: int, group=None)\n",
      " |      Ініціалізуємо обєкт\n",
      " |      - в середині конструктора створюються атрибути\n",
      " |\n",
      " |  __len__(self)\n",
      " |\n",
      " |  __repr__(self)\n",
      " |      Return repr(self).\n",
      " |\n",
      " |  calculate_scholarship_after_session(self, raiting: int)\n",
      " |\n",
      " |  fucntion_in_class(self)\n",
      " |      Це вже метод згідно термінології, і він публічний\n",
      " |\n",
      " |  panishment(self)\n",
      " |\n",
      " |  ----------------------------------------------------------------------\n",
      " |  Readonly properties defined here:\n",
      " |\n",
      " |  name\n",
      " |      Ця властивість є закритою, її можна читати але не можна змінювати\n",
      " |\n",
      " |  say_hello\n",
      " |\n",
      " |  surname\n",
      " |\n",
      " |  ----------------------------------------------------------------------\n",
      " |  Data descriptors defined here:\n",
      " |\n",
      " |  __dict__\n",
      " |      dictionary for instance variables\n",
      " |\n",
      " |  __weakref__\n",
      " |      list of weak references to the object\n",
      "\n",
      "Довжина імені:  6\n",
      "Беремо атрибут імені: Сергій\n",
      "Беремо атрибут прізвища: Занько\n"
     ]
    }
   ],
   "source": [
    "from my_class import MySuperClass\n",
    "\n",
    "# Створюємо об'єкт класу\n",
    "obj = MySuperClass(\"Занько\", \"Сергій\", 30)\n",
    "\n",
    "# Виводимо об'єкт\n",
    "print(obj)\n",
    "\n",
    "# Допомога з об'єктом\n",
    "help(obj)\n",
    "\n",
    "# Довжина імені\n",
    "print(\"Довжина імені: \", len(obj.name))\n",
    "\n",
    "# Беремо атрибут імені\n",
    "print(\"Беремо атрибут імені:\", obj.name)\n",
    "\n",
    "# Виводимо атрибут прізвища\n",
    "print(\"Беремо атрибут прізвища:\", obj.surname)\n",
    "\n"
   ]
  },
  {
   "cell_type": "code",
   "execution_count": 54,
   "metadata": {},
   "outputs": [
    {
     "name": "stdout",
     "output_type": "stream",
     "text": [
      "Toyota Camry (2018)\n",
      "Help on Car in module my_class object:\n",
      "\n",
      "class Car(builtins.object)\n",
      " |  Car(make: str, model: str, year: int)\n",
      " |\n",
      " |  Клас, що представляє автомобіль\n",
      " |\n",
      " |  Methods defined here:\n",
      " |\n",
      " |  __init__(self, make: str, model: str, year: int)\n",
      " |      Initialize self.  See help(type(self)) for accurate signature.\n",
      " |\n",
      " |  __repr__(self)\n",
      " |      Return repr(self).\n",
      " |\n",
      " |  age(self)\n",
      " |      Обчислює вік автомобіля\n",
      " |\n",
      " |  ----------------------------------------------------------------------\n",
      " |  Data descriptors defined here:\n",
      " |\n",
      " |  __dict__\n",
      " |      dictionary for instance variables\n",
      " |\n",
      " |  __weakref__\n",
      " |      list of weak references to the object\n",
      "\n",
      "Клас, що представляє автомобіль\n",
      "    \n",
      "Toyota\n",
      "Camry\n"
     ]
    }
   ],
   "source": [
    "from my_class import Car\n",
    "\n",
    "# Створюємо об'єкт класу Car\n",
    "my_car = Car(\"Toyota\", \"Camry\", 2018)\n",
    "\n",
    "# Виводимо об'єкт\n",
    "print(my_car)\n",
    "\n",
    "# Допомога з об'єктом\n",
    "help(my_car)\n",
    "\n",
    "# Виводимо документацію класу\n",
    "print(Car.__doc__)\n",
    "\n",
    "# Виводимо вік автомобіля\n",
    "print(my_car.make)\n",
    "print(my_car.model)\n",
    "\n"
   ]
  },
  {
   "cell_type": "markdown",
   "metadata": {},
   "source": [
    "#### Принципи роботи атрибутів та властивостей\n",
    "- хоча ми можемо задавати типи аргументів які пердаються в конструктор, нічого не буде якщо ми їх не дотримаємось\n",
    "- при створенні обєкта всі методи та атриути які були в класі також будуть в обєкт\n",
    "- ле ми можемо створювати динамічні атрибути, які будуть властиві лише для конкретного обєкта\n",
    "- коли створюються динамічні атрибути вони порушують механіку класу, найчастіше тому задають наперед визначені атрибути\n",
    "- Значення атрибутів можна змінювати/модифікувати під час роботи з ними\n",
    "- але існують так звані Властивості - це тіж самі поля з інформацією про обєкт але їх не можна модифікувати\n",
    "- якщо ми хочемо щоб якісь дані були незмінними то ми створюємо властивості а в середині конструктора передбачаємо приватні атрибути\n",
    "- до паблік та пзахищених атрибутів можна доступитись і змінити їх, але ніяк до приватних"
   ]
  },
  {
   "cell_type": "code",
   "execution_count": 55,
   "metadata": {},
   "outputs": [
    {
     "name": "stdout",
     "output_type": "stream",
     "text": [
      "Викликаємо __init__\n",
      "В обєкта будуть наступні атрибути: {'_MySuperClass__surname': 1, '_MySuperClass__name': 'Один', 'mark': '1', 'group': None, '_age': None, '_scholarship': 0}\n",
      "Викликаємо __init__\n",
      "{'_MySuperClass__surname': 1, '_MySuperClass__name': 'Один', 'mark': '1', 'group': 'TK-41', '_age': None, '_scholarship': 0} але базові атрибути будуть доступними для {'_MySuperClass__surname': 2, '_MySuperClass__name': 'Два', 'mark': '2', 'group': None, '_age': None, '_scholarship': 0}\n",
      "Викликаємо __init__\n",
      "В цьоьму обєкті ми явно задали всі атрибути {'_MySuperClass__surname': 3, '_MySuperClass__name': 'Три', 'mark': '3', 'group': 'TK-41', '_age': None, '_scholarship': 0}\n"
     ]
    }
   ],
   "source": [
    "from my_class import MySuperClass\n",
    "\n",
    "s1 = MySuperClass(1, \"Один\", \"1\")\n",
    "\n",
    "print(f\"В обєкта будуть наступні атрибути: {s1.__dict__}\")\n",
    "s1.group = \"TK-41\"\n",
    "\n",
    "s2 = MySuperClass(2, \"Два\", \"2\")\n",
    "print(f\"{s1.__dict__} але базові атрибути будуть доступними для {s2.__dict__}\")\n",
    "\n",
    "s3 = MySuperClass(3, \"Три\", \"3\", \"TK-41\")\n",
    "print(f\"В цьоьму обєкті ми явно задали всі атрибути {s3.__dict__}\")"
   ]
  },
  {
   "cell_type": "code",
   "execution_count": 56,
   "metadata": {},
   "outputs": [
    {
     "name": "stdout",
     "output_type": "stream",
     "text": [
      "Один\n",
      "1\n",
      "None\n",
      "10\n"
     ]
    }
   ],
   "source": [
    "print(s1.name)\n",
    "#s1.name = \"Три\"\n",
    "\n",
    "print(s1.surname)\n",
    "\n",
    "print(s1._age)\n",
    "s1._age = 10\n",
    "print(s1._age)\n",
    "\n",
    "# s1.__surname  # хоча ВіжуалСтудіо підкидує автокомплішн, це буде помилка"
   ]
  },
  {
   "cell_type": "markdown",
   "metadata": {},
   "source": [
    "- Приклад роботи з ChatGPT\n"
   ]
  },
  {
   "cell_type": "code",
   "execution_count": 57,
   "metadata": {},
   "outputs": [
    {
     "name": "stdout",
     "output_type": "stream",
     "text": [
      "Створено: Animal(name='Рекс', species='Собака', age=5)\n",
      "Створено: Animal(name='Мурка', species='Кіт', age=3)\n",
      "Рекс говорить: Гав\n",
      "Мурка говорить: Мяу\n",
      "Рекс має колір: Чорний\n"
     ]
    }
   ],
   "source": [
    "\n",
    "from chat_examples import demonstrate_animal_class\n",
    "\n",
    "demonstrate_animal_class()\n"
   ]
  },
  {
   "cell_type": "markdown",
   "metadata": {},
   "source": [
    "#### Методи класу\n",
    "- методи це ті самі функії однак визначені всередині класу\n",
    "- методи реалізують певні дії над обєктом або дії самого обєкту\n",
    "- так само як з атрибутами, є публічні, захищені та приватні методи"
   ]
  },
  {
   "cell_type": "code",
   "execution_count": 58,
   "metadata": {},
   "outputs": [
    {
     "name": "stdout",
     "output_type": "stream",
     "text": [
      "Викликаємо __init__\n",
      "Ми викликали публічний метод\n",
      "Це приватний метод!\n",
      "Ми доступаємось до захищеного методу\n",
      "\n",
      "Тільки прийшли вчитись в коледж: 0\n",
      "Провчились семестр і здали все на 5:  Вітаю! Отримано підвищену стипундію\n",
      "І наша стипендія тепер: 2200 грн\n",
      "За другий семетр набрали рейтинг 4 : вітаю! Отримано звичайну стипундію\n",
      "А тепер вона: 1510 грн\n",
      "Перестали вчитись: На жаль рейтинг занизький для стипендії\n",
      "а тепер: 0\n",
      "\n"
     ]
    }
   ],
   "source": [
    "from my_class import MySuperClass\n",
    "\n",
    "s1 = MySuperClass(1, \"Один\", \"1\")\n",
    "\n",
    "print(s1.fucntion_in_class())\n",
    "print(s1._protected_method_in_class())\n",
    "\n",
    "print(f\"\"\"\n",
    "Тільки прийшли вчитись в коледж: {s1._scholarship}\n",
    "Провчились семестр і здали все на 5:  {s1.calculate_scholarship_after_session(5)}\n",
    "І наша стипендія тепер: {s1._scholarship}\n",
    "За другий семетр набрали рейтинг 4 : {s1.calculate_scholarship_after_session(4)}\n",
    "А тепер вона: {s1._scholarship}\n",
    "Перестали вчитись: {s1.calculate_scholarship_after_session(3)}\n",
    "а тепер: {s1._scholarship}\n",
    "\"\"\")"
   ]
  },
  {
   "cell_type": "markdown",
   "metadata": {},
   "source": [
    "##### Приклад роботи з ChatGPT\n",
    "- my_class.py: Цей файл містить визначення класів Book, User та Library. Тут ми описуємо всю логіку роботи з книгами та користувачами.\n",
    "- 1.ipynb: У цьому Jupyter Notebook ми імпортуємо класи з my_class.py і створюємо об'єкти бібліотеки, книг та користувача. Далі ми виконуємо операції позички та повернення книг, а також перевіряємо доступні книги."
   ]
  },
  {
   "cell_type": "code",
   "execution_count": 59,
   "metadata": {},
   "outputs": [
    {
     "name": "stdout",
     "output_type": "stream",
     "text": [
      "1984 успішно позичено.\n",
      "Доступні книги: ['Гаррі Поттер і філософський камінь']\n",
      "1984 повернуто користувачем Олександр.\n",
      "Доступні книги: ['1984', 'Гаррі Поттер і філософський камінь']\n"
     ]
    }
   ],
   "source": [
    "# 1.ipynb\n",
    "\n",
    "# Імпортуємо класи з my_class.py\n",
    "from my_class import Book, User, Library\n",
    "\n",
    "# Створюємо бібліотеку\n",
    "library = Library()\n",
    "\n",
    "# Додаємо книги до бібліотеки\n",
    "book1 = Book(\"1984\", \"Джордж Орвелл\", \"978-0451524935\")\n",
    "book2 = Book(\"Гаррі Поттер і філософський камінь\", \"Джоан Роулінг\", \"978-0545582889\")\n",
    "\n",
    "library.add_book(book1)\n",
    "library.add_book(book2)\n",
    "\n",
    "# Створюємо користувача\n",
    "user = User(\"Олександр\")\n",
    "\n",
    "# Користувач позичає книгу\n",
    "print(user.borrow_book(book1))  # \"1984 успішно позичено.\"\n",
    "\n",
    "# Перевіряємо доступні книги в бібліотеці\n",
    "print(f\"Доступні книги: {library.list_books()}\")  # [\"Гаррі Поттер і філософський камінь\"]\n",
    "\n",
    "# Користувач повертає книгу\n",
    "print(user.return_book(book1))  # \"1984 повернуто користувачем Олександр.\"\n",
    "\n",
    "# Перевіряємо знову доступні книги\n",
    "print(f\"Доступні книги: {library.list_books()}\")  # [\"1984\", \"Гаррі Поттер і філософський камінь\"]\n"
   ]
  },
  {
   "cell_type": "markdown",
   "metadata": {},
   "source": [
    "- Створив за допомогою ChatGPT клас для героя з гри Dota 2\n",
    "- він буде містити інформацію про героя, його навички та можливість атакувати. "
   ]
  },
  {
   "cell_type": "code",
   "execution_count": 60,
   "metadata": {},
   "outputs": [
    {
     "name": "stdout",
     "output_type": "stream",
     "text": [
      "Anti-Mage (Carry) - Здоров'я: 100\n",
      "Anti-Mage атакує Crystal Maiden!\n",
      "Anti-Mage використовує навичку: Blink\n",
      "Навичка не знайдена.\n"
     ]
    }
   ],
   "source": [
    "# 1.ipynb\n",
    "\n",
    "from my_hero import Hero\n",
    "\n",
    "# Створюємо героя\n",
    "hero1 = Hero(\"Anti-Mage\", \"Carry\", 100, [\"Mana Break\", \"Blink\", \"Counterspell\", \"Mana Void\"])\n",
    "\n",
    "# Виводимо інформацію про героя\n",
    "print(hero1)  # Виведе: Anti-Mage (Carry) - Здоров'я: 100\n",
    "\n",
    "# Атака ворога\n",
    "enemy_hero = Hero(\"Crystal Maiden\", \"Support\", 100, [\"Frostbite\", \"Ice Path\", \"Freezing Field\"])\n",
    "print(hero1.attack(enemy_hero))  # \"Anti-Mage атакує Crystal Maiden!\"\n",
    "\n",
    "# Використання навичок\n",
    "print(hero1.use_skill(1))  # \"Anti-Mage використовує навичку: Blink\"\n",
    "print(hero1.use_skill(5))  # \"Навичка не знайдена.\"\n"
   ]
  }
 ],
 "metadata": {
  "kernelspec": {
   "display_name": "Python 3",
   "language": "python",
   "name": "python3"
  },
  "language_info": {
   "codemirror_mode": {
    "name": "ipython",
    "version": 3
   },
   "file_extension": ".py",
   "mimetype": "text/x-python",
   "name": "python",
   "nbconvert_exporter": "python",
   "pygments_lexer": "ipython3",
   "version": "3.12.5"
  }
 },
 "nbformat": 4,
 "nbformat_minor": 2
}

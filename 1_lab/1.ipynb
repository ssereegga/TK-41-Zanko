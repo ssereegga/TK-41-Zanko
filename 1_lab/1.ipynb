{
 "cells": [
  {
   "cell_type": "markdown",
   "metadata": {},
   "source": [
    "### Перша программа "
   ]
  },
  {
   "cell_type": "markdown",
   "metadata": {},
   "source": [
    "- Створюємо змінні "
   ]
  },
  {
   "cell_type": "code",
   "execution_count": 9,
   "metadata": {},
   "outputs": [],
   "source": [
    "from datetime import datetime\n",
    "name = \"Sergiy\"\n",
    "location = \"Lviv\""
   ]
  },
  {
   "cell_type": "markdown",
   "metadata": {},
   "source": [
    "- Виводимо результат "
   ]
  },
  {
   "cell_type": "code",
   "execution_count": 10,
   "metadata": {},
   "outputs": [
    {
     "name": "stdout",
     "output_type": "stream",
     "text": [
      "Sergiy start programming at 2024-09-20 12:46:29.634089. Lviv is the best city!\n"
     ]
    }
   ],
   "source": [
    "print(f\"{name} start programming at {datetime.now()}. {location} is the best city!\")"
   ]
  },
  {
   "cell_type": "markdown",
   "metadata": {},
   "source": [
    "### Виконання індивідуального завдання за допомогою ChatGPT"
   ]
  },
  {
   "cell_type": "code",
   "execution_count": 14,
   "metadata": {},
   "outputs": [
    {
     "name": "stdout",
     "output_type": "stream",
     "text": [
      "Я загадав число від 1 до 10. Спробуйте вгадати його!\n"
     ]
    }
   ],
   "source": [
    "import random\n",
    "\n",
    "# Генеруємо випадкове число від 1 до 10\n",
    "number_to_guess = random.randint(1, 10)\n",
    "attempts = 0\n",
    "\n",
    "print(\"Я загадав число від 1 до 10. Спробуйте вгадати його!\")\n",
    "\n",
    "while True:\n",
    "    user_guess = int(input(\"Ваше число: \"))\n",
    "    attempts += 1\n",
    "\n",
    "    if user_guess < number_to_guess:\n",
    "        print(\"Загадане число більше!\")\n",
    "    elif user_guess > number_to_guess:\n",
    "        print(\"Загадане число менше!\")\n",
    "    else:\n",
    "        print(f\"Вітаю! Ви вгадали число {number_to_guess} за {attempts} спроб.\")\n",
    "        break\n"
   ]
  }
 ],
 "metadata": {
  "kernelspec": {
   "display_name": "Python 3",
   "language": "python",
   "name": "python3"
  },
  "language_info": {
   "codemirror_mode": {
    "name": "ipython",
    "version": 3
   },
   "file_extension": ".py",
   "mimetype": "text/x-python",
   "name": "python",
   "nbconvert_exporter": "python",
   "pygments_lexer": "ipython3",
   "version": "3.12.5"
  }
 },
 "nbformat": 4,
 "nbformat_minor": 2
}

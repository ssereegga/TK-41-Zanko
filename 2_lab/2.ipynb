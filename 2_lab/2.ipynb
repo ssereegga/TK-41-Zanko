{
 "cells": [
  {
   "cell_type": "markdown",
   "metadata": {},
   "source": [
    "### Типи змінних"
   ]
  },
  {
   "cell_type": "markdown",
   "metadata": {},
   "source": [
    "#### Стрічкові змінні \n",
    "- змінна це просто імя (буква або набір букв або цифр) яке містить значення\n",
    "- власне значення це стрічка яка є у '' \"\""
   ]
  },
  {
   "cell_type": "markdown",
   "metadata": {},
   "source": [
    "- Оголошуємо змінні"
   ]
  },
  {
   "cell_type": "code",
   "execution_count": 4,
   "metadata": {},
   "outputs": [],
   "source": [
    "a = 'Це стрічка'\n",
    "a1 = \"Це\"\n",
    "a_1 = \"стрічка\"\n",
    "a_ = '''\n",
    "Це \n",
    "мільтистрічка\n",
    "'''\n"
   ]
  },
  {
   "cell_type": "markdown",
   "metadata": {},
   "source": [
    "- Виводимо значення стрічкових змінних та багаторядкової стрічки"
   ]
  },
  {
   "cell_type": "code",
   "execution_count": 5,
   "metadata": {},
   "outputs": [
    {
     "name": "stdout",
     "output_type": "stream",
     "text": [
      "Це стрічка Це стрічка \n",
      "Це \n",
      "мільтистрічка\n",
      "\n"
     ]
    }
   ],
   "source": [
    "print(a, a1, a_1, a_)\n"
   ]
  },
  {
   "cell_type": "markdown",
   "metadata": {},
   "source": [
    "- Змінну a_1 видаляємо з пам'яті"
   ]
  },
  {
   "cell_type": "code",
   "execution_count": 6,
   "metadata": {},
   "outputs": [],
   "source": [
    "del a_1\n"
   ]
  },
  {
   "cell_type": "markdown",
   "metadata": {},
   "source": [
    "- Якщо розкоментувати код з print(a_1), отримаємо NameError, оскільки змінну було видалено"
   ]
  },
  {
   "cell_type": "code",
   "execution_count": 7,
   "metadata": {},
   "outputs": [
    {
     "ename": "NameError",
     "evalue": "name 'a_1' is not defined",
     "output_type": "error",
     "traceback": [
      "\u001b[1;31m---------------------------------------------------------------------------\u001b[0m",
      "\u001b[1;31mNameError\u001b[0m                                 Traceback (most recent call last)",
      "\u001b[1;32mc:\\Users\\User\\Documents\\student\\TK-41-Zanko\\2_lab\\2.ipynb Cell 10\u001b[0m line \u001b[0;36m1\n\u001b[1;32m----> <a href='vscode-notebook-cell:/c%3A/Users/User/Documents/student/TK-41-Zanko/2_lab/2.ipynb#X12sZmlsZQ%3D%3D?line=0'>1</a>\u001b[0m \u001b[39mprint\u001b[39m(a_1)\n",
      "\u001b[1;31mNameError\u001b[0m: name 'a_1' is not defined"
     ]
    }
   ],
   "source": [
    "print(a_1)\n"
   ]
  },
  {
   "cell_type": "markdown",
   "metadata": {},
   "source": [
    "- Створюється змінна з назвою українською мовою, і виводиться її значення"
   ]
  },
  {
   "cell_type": "code",
   "execution_count": null,
   "metadata": {},
   "outputs": [],
   "source": [
    "піца = \"зʼли піцу\"\n",
    "print(піца)\n"
   ]
  },
  {
   "cell_type": "markdown",
   "metadata": {},
   "source": [
    "- Використовується функція type(), щоб перевірити тип змінної."
   ]
  },
  {
   "cell_type": "code",
   "execution_count": null,
   "metadata": {},
   "outputs": [],
   "source": [
    "print(type(піца))\n"
   ]
  },
  {
   "cell_type": "markdown",
   "metadata": {},
   "source": [
    "- Додавання двох стрічок (конкатенація)."
   ]
  },
  {
   "cell_type": "code",
   "execution_count": null,
   "metadata": {},
   "outputs": [],
   "source": [
    "print(a + b, a.__add__(b))\n"
   ]
  },
  {
   "cell_type": "markdown",
   "metadata": {},
   "source": [
    "#### Чисові типи змінних\n",
    "- цілі числа та числа з плавачаю крапкою"
   ]
  },
  {
   "cell_type": "code",
   "execution_count": null,
   "metadata": {},
   "outputs": [
    {
     "name": "stdout",
     "output_type": "stream",
     "text": [
      "13 31\n"
     ]
    }
   ],
   "source": [
    "k = 13\n",
    "r = 31\n",
    "print(k,r)"
   ]
  },
  {
   "cell_type": "markdown",
   "metadata": {},
   "source": [
    "- Арифметичні операції"
   ]
  },
  {
   "cell_type": "code",
   "execution_count": null,
   "metadata": {},
   "outputs": [
    {
     "name": "stdout",
     "output_type": "stream",
     "text": [
      "-18 44 403 0.41935483870967744\n"
     ]
    }
   ],
   "source": [
    "g = k - r\n",
    "a= k + r\n",
    "p = k * r\n",
    "f= k / r\n",
    "print(g,a,p,f)\n",
    "# тут ми спробували базові арифметичні операції з числами"
   ]
  },
  {
   "cell_type": "markdown",
   "metadata": {},
   "source": [
    "- Тепер спробуємо піднесення до степені"
   ]
  },
  {
   "cell_type": "code",
   "execution_count": null,
   "metadata": {},
   "outputs": [
    {
     "name": "stdout",
     "output_type": "stream",
     "text": [
      "29791 169 -20822964865671168\n"
     ]
    }
   ],
   "source": [
    "r ** 3\n",
    "k ** 2\n",
    "g ** 13\n",
    "print(r ** 3,k ** 2,g ** 13)"
   ]
  },
  {
   "cell_type": "markdown",
   "metadata": {},
   "source": [
    "- Спробуєм додати стрічку і число"
   ]
  },
  {
   "cell_type": "code",
   "execution_count": null,
   "metadata": {},
   "outputs": [
    {
     "name": "stdout",
     "output_type": "stream",
     "text": [
      "3/ <class 'str'>\n",
      "3/3/3/3/3/3/3/3/3/3/3/3/3/\n"
     ]
    }
   ],
   "source": [
    "y = \"3/\"\n",
    "b = 13\n",
    "c = y * b\n",
    "print(y, type (c))\n",
    "v = c + str(y)\n",
    "print(c)"
   ]
  },
  {
   "cell_type": "markdown",
   "metadata": {},
   "source": [
    "- Попросив ChatGPT написати код так, щоб утворився квадрат"
   ]
  },
  {
   "cell_type": "code",
   "execution_count": null,
   "metadata": {},
   "outputs": [
    {
     "name": "stdout",
     "output_type": "stream",
     "text": [
      "1313131313\n",
      "1313131313\n",
      "1313131313\n",
      "1313131313\n",
      "1313131313\n"
     ]
    }
   ],
   "source": [
    "# Розмір сторони квадрата\n",
    "n = 5\n",
    "\n",
    "# Виводимо квадрат\n",
    "for i in range(n):\n",
    "    print('13' * n)\n"
   ]
  },
  {
   "cell_type": "markdown",
   "metadata": {},
   "source": [
    "#### Колекці-комплексні типи даних\n",
    "- list - це просто набір різних типів даних, все зібрано докупи\n",
    "- впорядкована колекція - тобто кожен елемент має свою позицію (індекси)\n",
    "- номерація або індекси починаються з 0\n",
    "- у Пайтон також є відємні індекси\n",
    "- списки можуть бути змінними"
   ]
  },
  {
   "cell_type": "code",
   "execution_count": null,
   "metadata": {},
   "outputs": [
    {
     "name": "stdout",
     "output_type": "stream",
     "text": [
      "Список: [10, '5', [2, 8], '7', 3]\n",
      "Другий елемент: 5, тип: <class 'str'>, Перший елемент: 10\n",
      "Останній елемент: 3, тип: <class 'int'>\n",
      "Оновлений список: [10, [2, 8], 3, 15], Видалений елемент: 5\n"
     ]
    }
   ],
   "source": [
    "l = [10, \"5\", [2, 8], '7', 3]\n",
    "print(f\"Список: {l}\")\n",
    "print(f\"Другий елемент: {l[1]}, тип: {type(l[1])}, Перший елемент: {l[0]}\")\n",
    "print(f\"Останній елемент: {l[-1]}, тип: {type(l[-1])}\")\n",
    "\n",
    "l.append(15)  # додаємо елемент 15\n",
    "l.remove('7')  # видаляємо елемент '7'\n",
    "видалений = l.pop(1)  # видаляємо другий елемент і зберігаємо його у змінну\n",
    "print(f\"Оновлений список: {l}, Видалений елемент: {видалений}\")\n"
   ]
  },
  {
   "cell_type": "markdown",
   "metadata": {},
   "source": [
    "- dict або словники\n",
    "- в словниках всі дані знаходяться на іменних позиціях\n",
    "- особливість словника що ключі або назви позицій мають бути унікальними\n",
    "- словники є mutable - тобто можна змінювати"
   ]
  },
  {
   "cell_type": "code",
   "execution_count": null,
   "metadata": {},
   "outputs": [],
   "source": [
    "d = {\"name\": 1, 0: \"Нуль\", 1: 1, \"Один\": 1, 0: \"Перевизначив\"}\n",
    "print(d)\n",
    "d[\"Нуль\"] = 0\n",
    "print(d)\n",
    "print(d[0], d[\"Нуль\"])\n",
    "\n",
    "Student = {\"Прізвище\": [\"Б\", \"А\"], \"Імя\": [\"Богдан\", \"Василь\"]}\n",
    "print(Student[\"Прізвище\"][0], Student[\"Імя\"][0])\n",
    "d.pop(0)\n",
    "print(d)"
   ]
  },
  {
   "cell_type": "markdown",
   "metadata": {},
   "source": [
    "- tuple - це незмінна колекція після її створення\n",
    "- впорядкована, кожен елемент на своєму місці та початок з 0"
   ]
  },
  {
   "cell_type": "code",
   "execution_count": null,
   "metadata": {},
   "outputs": [],
   "source": [
    "t = (1, \"1\", \"Один\", \"1\", 2)\n",
    "\n",
    "print(\"Рхуємо кількість цифр 1\", t.count(1), len(t), t[0])\n",
    "print(t.index(\"1\"))"
   ]
  },
  {
   "cell_type": "markdown",
   "metadata": {},
   "source": [
    "- set - колекція унікальних елементів\n",
    "- невпорядкована колекція, тобто немає індексів (просто куча даних)"
   ]
  },
  {
   "cell_type": "code",
   "execution_count": null,
   "metadata": {},
   "outputs": [
    {
     "name": "stdout",
     "output_type": "stream",
     "text": [
      "Множина: {1, 2, 3, 'Чотири'}\n",
      "Оновлена множина: {'Два', 1, 2, 3, 'Чотири', 7}\n",
      "Після видалення елемента: Два, Множина: {1, 2, 3, 'Чотири', 7}\n"
     ]
    }
   ],
   "source": [
    "t = [1, 2, 3, 'Чотири', 2, 1]\n",
    "s = set(t)\n",
    "print(f\"Множина: {s}\")\n",
    "s.add(7)  # додаємо число 7\n",
    "s.add('Два')  # додаємо рядок 'Два'\n",
    "print(f\"Оновлена множина: {s}\")\n",
    "видалений = s.pop()  # видаляємо і зберігаємо будь-який елемент\n",
    "print(f\"Після видалення елемента: {видалений}, Множина: {s}\")\n"
   ]
  },
  {
   "cell_type": "code",
   "execution_count": null,
   "metadata": {},
   "outputs": [
    {
     "name": "stdout",
     "output_type": "stream",
     "text": [
      "-257070150\n"
     ]
    }
   ],
   "source": [
    "a = \"A\"\n",
    "b = \"A\"\n",
    "a.__hash__() == b.__hash__()\n",
    "print(a.__hash__())"
   ]
  },
  {
   "cell_type": "markdown",
   "metadata": {},
   "source": [
    "#### Способи виводу інформації/даних"
   ]
  },
  {
   "cell_type": "code",
   "execution_count": 1,
   "metadata": {},
   "outputs": [
    {
     "data": {
      "text/plain": [
       "'Максим Новосад прогульщик'"
      ]
     },
     "execution_count": 1,
     "metadata": {},
     "output_type": "execute_result"
    }
   ],
   "source": [
    "p = \"Максим Новосад прогульщик\"\n",
    "p #це буде виведено але через особливості роботи комірок"
   ]
  },
  {
   "cell_type": "code",
   "execution_count": 6,
   "metadata": {},
   "outputs": [
    {
     "name": "stdout",
     "output_type": "stream",
     "text": [
      "Максим Новосад прогульщик не ходить на пари\n",
      "Відповідь: Мені лінь\n"
     ]
    }
   ],
   "source": [
    "# використовуємо властивості функції print\n",
    "print(p, \"не ходить на пари\")\n",
    "i = \"5\"\n",
    "print(\"Відповідь\" + \": \" \"Мені лінь\") # спочатку порахували вираз і потім його вивели"
   ]
  },
  {
   "cell_type": "code",
   "execution_count": 4,
   "metadata": {},
   "outputs": [
    {
     "name": "stdout",
     "output_type": "stream",
     "text": [
      "Починаємо стрічку\n",
      "Тут буде ВСТАВКА та ще додамо цифру 5\n",
      "5 рівне 5 та не рівне 6\n",
      "Це буде форматована Вставка з числом 2.12\n"
     ]
    }
   ],
   "source": [
    "# використовуємо властивості стрічок\n",
    "fs = \"Починаємо\" + \" \" + \"стрічку\"\n",
    "print(fs)\n",
    "fs = \"Тут буде {} та ще додамо цифру {}\".format(\"ВСТАВКА\", 5) #позиції мають критичну роль\n",
    "print(fs)\n",
    "fs = \"{0} рівне {0} та не рівне {1}\".format(5, 6) # тепер позиції визначаються індексами\n",
    "print(fs)\n",
    "fs = \"Це буде форматована %s з числом %.2f\" % (\"Вставка\", 2.12345)\n",
    "print(fs) \n",
    "# стрічку можна форматувати і всередині прінт без змінної"
   ]
  },
  {
   "cell_type": "code",
   "execution_count": 8,
   "metadata": {},
   "outputs": [
    {
     "name": "stdout",
     "output_type": "stream",
     "text": [
      "Розпочинаємо приклад з текстом: ТЕСТ та числом: 10\n",
      "В цьому рядку буде значення: ЗАМІНА і додамо ще число 20\n",
      "7 більше за 3, але менше за 10\n",
      "Форматована рядкова вставка: Текст та число з двома знаками після коми: 3.14\n"
     ]
    }
   ],
   "source": [
    "print(f\"Розпочинаємо приклад з текстом: {'ТЕСТ'} та числом: {10}\")\n",
    "fs = f\"В цьому рядку буде значення: {'ЗАМІНА'} і додамо ще число {20}\"\n",
    "print(fs)\n",
    "fs = f\"{7} більше за {3}, але менше за {10}\"\n",
    "print(fs)\n",
    "fs = f\"Форматована рядкова вставка: {'Текст'} та число з двома знаками після коми: {3.14159:.2f}\"\n",
    "print(fs)\n"
   ]
  },
  {
   "cell_type": "code",
   "execution_count": 11,
   "metadata": {},
   "outputs": [
    {
     "name": "stdout",
     "output_type": "stream",
     "text": [
      "Введено з клавіатури: Макс Проць і Саня Гайфілт вилетіли з коледжа, довжина рядка 44 та вставлене число 1\n"
     ]
    }
   ],
   "source": [
    "s = \"Макс Проць і Саня Гайфілт вилетіли з коледжа\"\n",
    "s1 = 1\n",
    "ff = f\"Введено з клавіатури: {s}, довжина рядка {len(s)} та вставлене число {s1}\"\n",
    "print(ff)"
   ]
  }
 ],
 "metadata": {
  "kernelspec": {
   "display_name": "Python 3",
   "language": "python",
   "name": "python3"
  },
  "language_info": {
   "codemirror_mode": {
    "name": "ipython",
    "version": 3
   },
   "file_extension": ".py",
   "mimetype": "text/x-python",
   "name": "python",
   "nbconvert_exporter": "python",
   "pygments_lexer": "ipython3",
   "version": "3.12.5"
  }
 },
 "nbformat": 4,
 "nbformat_minor": 2
}

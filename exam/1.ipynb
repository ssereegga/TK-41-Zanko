{
 "cells": [
  {
   "cell_type": "markdown",
   "metadata": {},
   "source": [
    "# Екзамен"
   ]
  },
  {
   "cell_type": "markdown",
   "metadata": {},
   "source": [
    "#### Завдання\n",
    "- Створити клас в який можна передати один аргумент і вивести цей аргумент через атрибути"
   ]
  },
  {
   "cell_type": "markdown",
   "metadata": {},
   "source": [
    "1) Приклад 1"
   ]
  },
  {
   "cell_type": "code",
   "execution_count": 24,
   "metadata": {},
   "outputs": [
    {
     "name": "stdout",
     "output_type": "stream",
     "text": [
      "Аргумент: Це останній екзамен!!!\n"
     ]
    }
   ],
   "source": [
    "# Створення класу\n",
    "class MyClass:\n",
    "    # Ініціалізація класу з аргументом\n",
    "    def __init__(self, argument):\n",
    "        self.argument = argument  # Збереження аргументу як атрибут класу\n",
    "    \n",
    "    # Метод для виведення значення атрибута\n",
    "    def display_argument(self):\n",
    "        print(f\"Аргумент: {self.argument}\")\n",
    "        \n",
    "# Створення екземпляра класу і передача аргументу\n",
    "my_object = MyClass(\"Це останній екзамен!!!\")\n",
    "\n",
    "# Виклик методу для виведення значення\n",
    "my_object.display_argument()\n"
   ]
  },
  {
   "cell_type": "markdown",
   "metadata": {},
   "source": [
    "2) Приклад 2"
   ]
  },
  {
   "cell_type": "code",
   "execution_count": 25,
   "metadata": {},
   "outputs": [
    {
     "name": "stdout",
     "output_type": "stream",
     "text": [
      "Власник рахунку: Сергій\n",
      "Баланс рахунку: 1000 грн.\n",
      "Власник рахунку: Марія\n",
      "Баланс рахунку: 500 грн.\n",
      "500 грн. успішно зараховано на рахунок.\n",
      "200 грн. успішно зараховано на рахунок.\n",
      "200 грн. успішно знято з рахунку.\n",
      "Недостатньо коштів для зняття 800 грн.\n",
      "Баланс рахунку: 1300 грн.\n",
      "Баланс рахунку: 700 грн.\n"
     ]
    }
   ],
   "source": [
    "class BankAccount:\n",
    "    def __init__(self, owner_name, initial_balance=0):\n",
    "        self.owner_name = owner_name  # Ім'я власника рахунку\n",
    "        self.balance = initial_balance  # Початковий баланс на рахунку\n",
    "\n",
    "    # Метод для поповнення рахунку\n",
    "    def deposit(self, amount):\n",
    "        if amount > 0:\n",
    "            self.balance += amount\n",
    "            print(f\"{amount} грн. успішно зараховано на рахунок.\")\n",
    "        else:\n",
    "            print(\"Сума поповнення повинна бути більшою за 0!\")\n",
    "\n",
    "    # Метод для зняття грошей з рахунку\n",
    "    def withdraw(self, amount):\n",
    "        if amount <= 0:\n",
    "            print(\"Сума зняття повинна бути більшою за 0!\")\n",
    "        elif amount > self.balance:\n",
    "            print(f\"Недостатньо коштів для зняття {amount} грн.\")\n",
    "        else:\n",
    "            self.balance -= amount\n",
    "            print(f\"{amount} грн. успішно знято з рахунку.\")\n",
    "\n",
    "    # Метод для перевірки балансу рахунку\n",
    "    def check_balance(self):\n",
    "        print(f\"Баланс рахунку: {self.balance} грн.\")\n",
    "\n",
    "    # Метод для виведення інформації про рахунок\n",
    "    def account_info(self):\n",
    "        print(f\"Власник рахунку: {self.owner_name}\")\n",
    "        self.check_balance()\n",
    "\n",
    "# Створення банківських рахунків\n",
    "account1 = BankAccount(\"Сергій\", 1000)\n",
    "account2 = BankAccount(\"Марія\", 500)\n",
    "\n",
    "# Виведення інформації про рахунки\n",
    "account1.account_info()\n",
    "account2.account_info()\n",
    "\n",
    "# Поповнення рахунків\n",
    "account1.deposit(500)\n",
    "account2.deposit(200)\n",
    "\n",
    "# Зняття грошей\n",
    "account1.withdraw(200)\n",
    "account2.withdraw(800)  # Тут не вистачає коштів\n",
    "\n",
    "# Перевірка балансу після операцій\n",
    "account1.check_balance()\n",
    "account2.check_balance()\n"
   ]
  }
 ],
 "metadata": {
  "kernelspec": {
   "display_name": "Python 3",
   "language": "python",
   "name": "python3"
  },
  "language_info": {
   "codemirror_mode": {
    "name": "ipython",
    "version": 3
   },
   "file_extension": ".py",
   "mimetype": "text/x-python",
   "name": "python",
   "nbconvert_exporter": "python",
   "pygments_lexer": "ipython3",
   "version": "3.13.1"
  }
 },
 "nbformat": 4,
 "nbformat_minor": 2
}
